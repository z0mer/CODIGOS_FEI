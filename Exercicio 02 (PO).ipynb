{
 "cells": [
  {
   "cell_type": "code",
   "execution_count": 24,
   "id": "b4ab41aa",
   "metadata": {},
   "outputs": [],
   "source": [
    "#importar as bibliotecas\n",
    "import gurobipy as gp #solver\n",
    "from gurobipy import GRB #classe com requisistos para otimização"
   ]
  },
  {
   "cell_type": "code",
   "execution_count": 25,
   "id": "7903688d",
   "metadata": {},
   "outputs": [],
   "source": [
    "#parâmetros do problema\n",
    "va = [2,2,10,20]\n",
    "vb = [50,20,10,30]\n",
    "vc = [80,70,10,80]\n",
    "\n",
    "custo = [2,4,1.5,1]\n",
    "N = 4 #número de variáveis"
   ]
  },
  {
   "cell_type": "code",
   "execution_count": 26,
   "id": "e2b7670d",
   "metadata": {},
   "outputs": [],
   "source": [
    "#inicializar o modelo\n",
    "m = gp.Model(\"Problema da dieta\")"
   ]
  },
  {
   "cell_type": "code",
   "execution_count": 27,
   "id": "9f98d73f",
   "metadata": {},
   "outputs": [],
   "source": [
    "#variáveis de decisão\n",
    "#m.addVar (tipo, limite mínimo, nome)\n",
    "x = m.addVars(N, vtype = GRB.CONTINUOUS, lb = 0, name = \"x\")"
   ]
  },
  {
   "cell_type": "code",
   "execution_count": 28,
   "id": "0256d500",
   "metadata": {},
   "outputs": [],
   "source": [
    "#Função objetivo\n",
    "m.setObjective(sum(custo[i]*x[i] for i in range(N)), GRB.MINIMIZE)"
   ]
  },
  {
   "cell_type": "code",
   "execution_count": 30,
   "id": "bcbf0c09",
   "metadata": {},
   "outputs": [],
   "source": [
    "#restrições\n",
    "c1 = m.addConstr(sum(va[i]*x[i] for i in range(N)) >= 11)\n",
    "c2 = m.addConstr(sum(vb[i]*x[i] for i in range(N)) >= 70)\n",
    "c3 = m.addConstr(sum(vc[i]*x[i] for i in range(N)) >= 250)"
   ]
  },
  {
   "cell_type": "code",
   "execution_count": 31,
   "id": "a626df3e",
   "metadata": {},
   "outputs": [
    {
     "name": "stdout",
     "output_type": "stream",
     "text": [
      "Gurobi Optimizer version 11.0.3 build v11.0.3rc0 (win64 - Windows 11.0 (22631.2))\n",
      "\n",
      "CPU model: 12th Gen Intel(R) Core(TM) i5-12500T, instruction set [SSE2|AVX|AVX2]\n",
      "Thread count: 6 physical cores, 12 logical processors, using up to 12 threads\n",
      "\n",
      "Optimize a model with 3 rows, 4 columns and 12 nonzeros\n",
      "Model fingerprint: 0xb927785f\n",
      "Coefficient statistics:\n",
      "  Matrix range     [2e+00, 8e+01]\n",
      "  Objective range  [1e+00, 4e+00]\n",
      "  Bounds range     [0e+00, 0e+00]\n",
      "  RHS range        [1e+01, 3e+02]\n",
      "Presolve removed 0 rows and 2 columns\n",
      "Presolve time: 0.01s\n",
      "Presolved: 3 rows, 2 columns, 6 nonzeros\n",
      "\n",
      "Iteration    Objective       Primal Inf.    Dual Inf.      Time\n",
      "       0    0.0000000e+00   5.975000e+01   0.000000e+00      0s\n",
      "       1    3.1250000e+00   0.000000e+00   0.000000e+00      0s\n",
      "\n",
      "Solved in 1 iterations and 0.02 seconds (0.00 work units)\n",
      "Optimal objective  3.125000000e+00\n"
     ]
    }
   ],
   "source": [
    "#resolver o modelo\n",
    "m.optimize()"
   ]
  },
  {
   "cell_type": "code",
   "execution_count": 32,
   "id": "02b8d8bd",
   "metadata": {},
   "outputs": [
    {
     "name": "stdout",
     "output_type": "stream",
     "text": [
      "Máximo lucro: 3.125\n"
     ]
    }
   ],
   "source": [
    "#valor da função objetivo\n",
    "print(f'Máximo lucro: {m.objVal}')"
   ]
  },
  {
   "cell_type": "code",
   "execution_count": 33,
   "id": "90b3880d",
   "metadata": {},
   "outputs": [
    {
     "name": "stdout",
     "output_type": "stream",
     "text": [
      "\n",
      "    Variable            x \n",
      "-------------------------\n",
      "        x[3]        3.125 \n"
     ]
    }
   ],
   "source": [
    "#valor das variáveis de decisão\n",
    "m.printAttr('x')"
   ]
  },
  {
   "cell_type": "code",
   "execution_count": 36,
   "id": "22f5d31d",
   "metadata": {},
   "outputs": [
    {
     "name": "stdout",
     "output_type": "stream",
     "text": [
      "Excesso de Vitamina A (t) =  -51.5\n",
      "Excesso de Vitamina B (t) =  -23.75\n",
      "Excesso de Vitamina C (t) =  0.0\n"
     ]
    }
   ],
   "source": [
    "#valor das variáveis de folga\n",
    "print('Excesso de Vitamina A (t) = ', c1.slack)\n",
    "print('Excesso de Vitamina B (t) = ', c2.slack)\n",
    "print('Excesso de Vitamina C (t) = ', c3.slack)"
   ]
  },
  {
   "cell_type": "code",
   "execution_count": null,
   "id": "297802a4",
   "metadata": {},
   "outputs": [],
   "source": []
  }
 ],
 "metadata": {},
 "nbformat": 4,
 "nbformat_minor": 5
}
