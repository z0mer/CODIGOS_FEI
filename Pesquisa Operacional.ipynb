{
 "cells": [
  {
   "cell_type": "code",
   "execution_count": 13,
   "id": "4d1e4a6e",
   "metadata": {},
   "outputs": [],
   "source": [
    "#importar as bibliotecas\n",
    "import gurobipy as gp #solver\n",
    "from gurobipy import GRB #classe com requisistos para otimização"
   ]
  },
  {
   "cell_type": "code",
   "execution_count": 14,
   "id": "2e5e4aa6",
   "metadata": {},
   "outputs": [],
   "source": [
    "#inicializar o modelo\n",
    "m = gp.Model(\"Problema das ligas metálicas\")"
   ]
  },
  {
   "cell_type": "code",
   "execution_count": 15,
   "id": "56345262",
   "metadata": {},
   "outputs": [],
   "source": [
    "#variáveis de decisão\n",
    "#m.addVar (tipo, limite mínimo, nome)\n",
    "X1 = m.addVar(vtype = GRB.CONTINUOUS, lb = 0, name = \"Baixa Resistência\")\n",
    "X2 = m.addVar(vtype = GRB.CONTINUOUS, name = \"Alta Resistência\")"
   ]
  },
  {
   "cell_type": "code",
   "execution_count": 16,
   "id": "f2a4f668",
   "metadata": {},
   "outputs": [],
   "source": [
    "#Função objetivo\n",
    "m.setObjective(3000*X1 + 5000*X2, GRB.MAXIMIZE)"
   ]
  },
  {
   "cell_type": "code",
   "execution_count": 17,
   "id": "cd81a5e8",
   "metadata": {},
   "outputs": [],
   "source": [
    "#restrições\n",
    "c = m.addConstr(0.5*X1 + 0.2*X2 <= 16)\n",
    "z = m.addConstr(0.25*X1 + 0.3*X2 <= 11)\n",
    "ch = m.addConstr(0.25*X1 + 0.5*X2 <= 15)"
   ]
  },
  {
   "cell_type": "code",
   "execution_count": 18,
   "id": "6f7cc2df",
   "metadata": {},
   "outputs": [
    {
     "name": "stdout",
     "output_type": "stream",
     "text": [
      "Gurobi Optimizer version 11.0.3 build v11.0.3rc0 (win64 - Windows 11.0 (22631.2))\n",
      "\n",
      "CPU model: 12th Gen Intel(R) Core(TM) i5-12500T, instruction set [SSE2|AVX|AVX2]\n",
      "Thread count: 6 physical cores, 12 logical processors, using up to 12 threads\n",
      "\n",
      "Optimize a model with 3 rows, 2 columns and 6 nonzeros\n",
      "Model fingerprint: 0xd01ab3d0\n",
      "Coefficient statistics:\n",
      "  Matrix range     [2e-01, 5e-01]\n",
      "  Objective range  [3e+03, 5e+03]\n",
      "  Bounds range     [0e+00, 0e+00]\n",
      "  RHS range        [1e+01, 2e+01]\n",
      "Presolve time: 0.01s\n",
      "Presolved: 3 rows, 2 columns, 6 nonzeros\n",
      "\n",
      "Iteration    Objective       Primal Inf.    Dual Inf.      Time\n",
      "       0    8.0000000e+33   4.000000e+30   8.000000e+03      0s\n",
      "       3    1.6000000e+05   0.000000e+00   0.000000e+00      0s\n",
      "\n",
      "Solved in 3 iterations and 0.02 seconds (0.00 work units)\n",
      "Optimal objective  1.600000000e+05\n"
     ]
    }
   ],
   "source": [
    "#resolver o modelo\n",
    "m.optimize()"
   ]
  },
  {
   "cell_type": "code",
   "execution_count": 19,
   "id": "be886ccf",
   "metadata": {},
   "outputs": [
    {
     "name": "stdout",
     "output_type": "stream",
     "text": [
      "Máximo lucro: 160000.0\n"
     ]
    }
   ],
   "source": [
    "#valor da função objetivo\n",
    "print(f'Máximo lucro: {m.objVal}')"
   ]
  },
  {
   "cell_type": "code",
   "execution_count": 20,
   "id": "129b511d",
   "metadata": {},
   "outputs": [
    {
     "name": "stdout",
     "output_type": "stream",
     "text": [
      "\n",
      "    Variable            x \n",
      "-------------------------\n",
      "Baixa Resistência           20 \n",
      "Alta Resistência           20 \n"
     ]
    }
   ],
   "source": [
    "#valor das variáveis de decisão\n",
    "m.printAttr('x')"
   ]
  },
  {
   "cell_type": "code",
   "execution_count": 21,
   "id": "cf61924d",
   "metadata": {},
   "outputs": [
    {
     "name": "stdout",
     "output_type": "stream",
     "text": [
      "Excesso de cobre (t) =  2.0\n",
      "Excesso de zinco (t) =  0.0\n",
      "Excesso de chumbo (t) =  0.0\n"
     ]
    }
   ],
   "source": [
    "#valor das variáveis de folga\n",
    "print('Excesso de cobre (t) = ', c.slack)\n",
    "print('Excesso de zinco (t) = ', z.slack)\n",
    "print('Excesso de chumbo (t) = ', ch.slack)"
   ]
  },
  {
   "cell_type": "code",
   "execution_count": null,
   "id": "f33a7ea7",
   "metadata": {},
   "outputs": [],
   "source": []
  }
 ],
 "metadata": {},
 "nbformat": 4,
 "nbformat_minor": 5
}
